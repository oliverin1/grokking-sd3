{
 "cells": [
  {
   "cell_type": "markdown",
   "id": "6fbf574a-ad4e-4eaf-b25e-7f7b6f4725ec",
   "metadata": {},
   "source": [
    "## prompt embedding\n",
    "1. load all 3 text encoders\n",
    "2. generate embedding and save to disk"
   ]
  },
  {
   "cell_type": "code",
   "execution_count": 1,
   "id": "0fac3604-8a90-4744-bd07-d90637c27ef0",
   "metadata": {},
   "outputs": [],
   "source": [
    "prompt = [\"photo of a car parked in an empty parking lot on a rainy night\"]\n",
    "is_pos_prompt = True\n",
    "batch_size = 1\n",
    "max_sequence_length = 256\n",
    "num_images_per_prompt = 1"
   ]
  },
  {
   "cell_type": "code",
   "execution_count": 2,
   "id": "88ed2647-675b-4fb4-b5f8-cfef048973de",
   "metadata": {},
   "outputs": [],
   "source": [
    "from typing import Any, Callable, Dict, List, Optional, Union\n",
    "\n",
    "import torch\n",
    "from transformers import (\n",
    "    CLIPTextModelWithProjection,\n",
    "    CLIPTokenizer,\n",
    "    T5EncoderModel,\n",
    "    T5TokenizerFast,\n",
    ")\n",
    "\n",
    "from transformers import BitsAndBytesConfig\n",
    "quantization_config = BitsAndBytesConfig(load_in_8bit=True)\n",
    "\n",
    "device = \"cuda\" if torch.cuda.is_available() else \"cpu\"\n",
    "num_images_per_prompt = 1"
   ]
  },
  {
   "cell_type": "code",
   "execution_count": 3,
   "id": "93d0ac1f-5f82-469a-b318-88416c19ce3a",
   "metadata": {},
   "outputs": [
    {
     "name": "stderr",
     "output_type": "stream",
     "text": [
      "You set `add_prefix_space`. The tokenizer needs to be converted from the slow tokenizers\n",
      "`low_cpu_mem_usage` was None, now default to True since model is quantized.\n"
     ]
    },
    {
     "data": {
      "application/vnd.jupyter.widget-view+json": {
       "model_id": "7845f2c489ac4ba58ce3e4876fadba05",
       "version_major": 2,
       "version_minor": 0
      },
      "text/plain": [
       "Downloading shards:   0%|          | 0/2 [00:00<?, ?it/s]"
      ]
     },
     "metadata": {},
     "output_type": "display_data"
    },
    {
     "data": {
      "application/vnd.jupyter.widget-view+json": {
       "model_id": "724000e11d6f4129ba850456fedf1c57",
       "version_major": 2,
       "version_minor": 0
      },
      "text/plain": [
       "Loading checkpoint shards:   0%|          | 0/2 [00:00<?, ?it/s]"
      ]
     },
     "metadata": {},
     "output_type": "display_data"
    }
   ],
   "source": [
    "model_id = \"stabilityai/stable-diffusion-3-medium-diffusers\"\n",
    "\n",
    "tokenizer = CLIPTokenizer.from_pretrained(model_id, subfolder=\"tokenizer\", use_safetensors=True)\n",
    "text_encoder = CLIPTextModelWithProjection.from_pretrained(model_id, subfolder=\"text_encoder\")\n",
    "tokenizer_2 = CLIPTokenizer.from_pretrained(model_id, subfolder=\"tokenizer_2\", use_safetensors=True)\n",
    "text_encoder_2 = CLIPTextModelWithProjection.from_pretrained(model_id, subfolder=\"text_encoder_2\")\n",
    "tokenizer_3 = T5TokenizerFast.from_pretrained(model_id, subfolder=\"tokenizer_3\", use_safetensors=True)\n",
    "text_encoder_3 = T5EncoderModel.from_pretrained(\n",
    "    model_id,\n",
    "    subfolder=\"text_encoder_3\",\n",
    "    quantization_config=quantization_config,\n",
    ")"
   ]
  },
  {
   "cell_type": "code",
   "execution_count": 4,
   "id": "eb401489-0f44-438c-9429-07b777ea1109",
   "metadata": {},
   "outputs": [],
   "source": [
    "def _get_clip_prompt_embeds(\n",
    "    prompt: Union[str, List[str]],\n",
    "    num_images_per_prompt: int = 1,\n",
    "    device: Optional[torch.device] = None,\n",
    "    clip_skip: Optional[int] = None,\n",
    "    clip_model_index: int = 0,\n",
    "    tokenizer: CLIPTokenizer = None,\n",
    "    tokenizer_2: CLIPTokenizer = None,\n",
    "    text_encoder: CLIPTextModelWithProjection = None,\n",
    "    text_encoder_2: CLIPTextModelWithProjection = None,\n",
    "):\n",
    "    clip_tokenizers = [tokenizer, tokenizer_2]\n",
    "    clip_text_encoders = [text_encoder, text_encoder_2]\n",
    "\n",
    "    tokenizer = clip_tokenizers[clip_model_index]\n",
    "    text_encoder = clip_text_encoders[clip_model_index]\n",
    "\n",
    "    prompt = [prompt] if isinstance(prompt, str) else prompt\n",
    "    batch_size = len(prompt)\n",
    "\n",
    "    text_inputs = tokenizer(\n",
    "        prompt,\n",
    "        padding=\"max_length\",\n",
    "        max_length=tokenizer.model_max_length,\n",
    "        truncation=True,\n",
    "        return_tensors=\"pt\",\n",
    "    )\n",
    "\n",
    "    text_input_ids = text_inputs.input_ids\n",
    "    untruncated_ids = tokenizer(prompt, padding=\"longest\", return_tensors=\"pt\").input_ids\n",
    "    if untruncated_ids.shape[-1] >= text_input_ids.shape[-1] and not torch.equal(text_input_ids, untruncated_ids):\n",
    "        removed_text = tokenizer.batch_decode(untruncated_ids[:, tokenizer.model_max_length - 1 : -1])\n",
    "        logger.warning(\n",
    "            \"The following part of your input was truncated because CLIP can only handle sequences up to\"\n",
    "            f\" {tokenizer.model_max_length} tokens: {removed_text}\"\n",
    "        )\n",
    "    prompt_embeds = text_encoder(text_input_ids.to(device), output_hidden_states=True)\n",
    "    pooled_prompt_embeds = prompt_embeds[0]\n",
    "\n",
    "    if clip_skip is None:\n",
    "        prompt_embeds = prompt_embeds.hidden_states[-2]\n",
    "    else:\n",
    "        prompt_embeds = prompt_embeds.hidden_states[-(clip_skip + 2)]\n",
    "\n",
    "    prompt_embeds = prompt_embeds.to(dtype=text_encoder.dtype, device=device)\n",
    "\n",
    "    _, seq_len, _ = prompt_embeds.shape\n",
    "    # duplicate text embeddings for each generation per prompt, using mps friendly method\n",
    "    prompt_embeds = prompt_embeds.repeat(1, num_images_per_prompt, 1)\n",
    "    prompt_embeds = prompt_embeds.view(batch_size * num_images_per_prompt, seq_len, -1)\n",
    "\n",
    "    pooled_prompt_embeds = pooled_prompt_embeds.repeat(1, num_images_per_prompt, 1)\n",
    "    pooled_prompt_embeds = pooled_prompt_embeds.view(batch_size * num_images_per_prompt, -1)\n",
    "\n",
    "    return prompt_embeds, pooled_prompt_embeds\n",
    "\n",
    "def _get_t5_prompt_embeds(\n",
    "    prompt: Union[str, List[str]] = None,\n",
    "    num_images_per_prompt: int = 1,\n",
    "    max_sequence_length: int = 256,\n",
    "    device: Optional[torch.device] = None,\n",
    "    dtype: Optional[torch.dtype] = None,\n",
    "    tokenizer_3: T5TokenizerFast = None,\n",
    "    text_encoder_3: T5EncoderModel = None\n",
    "):\n",
    "    device = device\n",
    "    dtype = dtype\n",
    "\n",
    "    prompt = [prompt] if isinstance(prompt, str) else prompt\n",
    "    batch_size = len(prompt)\n",
    "\n",
    "    text_inputs = tokenizer_3(\n",
    "        prompt,\n",
    "        padding=\"max_length\",\n",
    "        max_length=max_sequence_length,\n",
    "        truncation=True,\n",
    "        add_special_tokens=True,\n",
    "        return_tensors=\"pt\",\n",
    "    )\n",
    "    text_input_ids = text_inputs.input_ids\n",
    "    untruncated_ids = tokenizer_3(prompt, padding=\"longest\", return_tensors=\"pt\").input_ids\n",
    "\n",
    "    if untruncated_ids.shape[-1] >= text_input_ids.shape[-1] and not torch.equal(text_input_ids, untruncated_ids):\n",
    "        removed_text = tokenizer_3.batch_decode(untruncated_ids[:, tokenizer.model_max_length - 1 : -1])\n",
    "        logger.warning(\n",
    "            \"The following part of your input was truncated because `max_sequence_length` is set to \"\n",
    "            f\" {max_sequence_length} tokens: {removed_text}\"\n",
    "        )\n",
    "\n",
    "    prompt_embeds = text_encoder_3(text_input_ids.to(device))[0]\n",
    "\n",
    "    dtype = text_encoder_3.dtype\n",
    "    prompt_embeds = prompt_embeds.to(dtype=dtype, device=device)\n",
    "\n",
    "    _, seq_len, _ = prompt_embeds.shape\n",
    "\n",
    "    # duplicate text embeddings and attention mask for each generation per prompt, using mps friendly method\n",
    "    prompt_embeds = prompt_embeds.repeat(1, num_images_per_prompt, 1)\n",
    "    prompt_embeds = prompt_embeds.view(batch_size * num_images_per_prompt, seq_len, -1)\n",
    "\n",
    "    return prompt_embeds"
   ]
  },
  {
   "cell_type": "code",
   "execution_count": 5,
   "id": "f8681000-658a-4edc-ab87-0c5de1ea0a6c",
   "metadata": {},
   "outputs": [],
   "source": [
    "prompt_embed, pooled_prompt_embed = _get_clip_prompt_embeds(\n",
    "    prompt=prompt,\n",
    "    device=\"cpu\",\n",
    "    num_images_per_prompt=num_images_per_prompt,\n",
    "    clip_skip=None,\n",
    "    clip_model_index=0,\n",
    "    tokenizer=tokenizer,\n",
    "    tokenizer_2=tokenizer_2,\n",
    "    text_encoder=text_encoder,\n",
    "    text_encoder_2=text_encoder_2\n",
    ")\n",
    "prompt_2_embed, pooled_prompt_2_embed = _get_clip_prompt_embeds(\n",
    "    prompt=prompt,\n",
    "    device=\"cpu\",\n",
    "    num_images_per_prompt=num_images_per_prompt,\n",
    "    clip_skip=None,\n",
    "    clip_model_index=1,\n",
    "    tokenizer=tokenizer,\n",
    "    tokenizer_2=tokenizer_2,\n",
    "    text_encoder=text_encoder,\n",
    "    text_encoder_2=text_encoder_2\n",
    ")\n",
    "clip_prompt_embeds = torch.cat([prompt_embed, prompt_2_embed], dim=-1)\n",
    "\n",
    "t5_prompt_embed = _get_t5_prompt_embeds(\n",
    "    prompt=prompt,\n",
    "    num_images_per_prompt=num_images_per_prompt,\n",
    "    max_sequence_length=max_sequence_length,\n",
    "    device=device,\n",
    "    tokenizer_3=tokenizer_3,\n",
    "    text_encoder_3=text_encoder_3\n",
    ")\n",
    "\n",
    "clip_prompt_embeds = torch.nn.functional.pad(\n",
    "    clip_prompt_embeds, (0, t5_prompt_embed.shape[-1] - clip_prompt_embeds.shape[-1])\n",
    ")\n",
    "\n",
    "t5_prompt_embed = t5_prompt_embed.to(\"cpu\")\n",
    "\n",
    "prompt_embeds = torch.cat([clip_prompt_embeds, t5_prompt_embed], dim=-2)\n",
    "pooled_prompt_embeds = torch.cat([pooled_prompt_embed, pooled_prompt_2_embed], dim=-1)"
   ]
  },
  {
   "cell_type": "code",
   "execution_count": 6,
   "id": "e4072c60-914c-4f2f-856c-35d9a4efe273",
   "metadata": {},
   "outputs": [
    {
     "name": "stderr",
     "output_type": "stream",
     "text": [
      "/tmp/ipykernel_7307/4041812761.py:2: FutureWarning: You are using `torch.load` with `weights_only=False` (the current default value), which uses the default pickle module implicitly. It is possible to construct malicious pickle data which will execute arbitrary code during unpickling (See https://github.com/pytorch/pytorch/blob/main/SECURITY.md#untrusted-models for more details). In a future release, the default value for `weights_only` will be flipped to `True`. This limits the functions that could be executed during unpickling. Arbitrary objects will no longer be allowed to be loaded via this mode unless they are explicitly allowlisted by the user via `torch.serialization.add_safe_globals`. We recommend you start setting `weights_only=True` for any use case where you don't have full control of the loaded file. Please open an issue on GitHub for any issues related to this experimental feature.\n",
      "  negative_prompt_embeds, negative_pooled_prompt_embeds = torch.load(\"neg_emb.pt\")\n"
     ]
    }
   ],
   "source": [
    "if is_pos_prompt:\n",
    "    negative_prompt_embeds, negative_pooled_prompt_embeds = torch.load(\"neg_emb.pt\")\n",
    "    prompt_embeds = torch.cat([negative_prompt_embeds, prompt_embeds], dim=0)\n",
    "    pooled_prompt_embeds = torch.cat([negative_pooled_prompt_embeds, pooled_prompt_embeds], dim=0)\n",
    "    torch.save((prompt_embeds, pooled_prompt_embeds), \"final_emb.pt\")\n",
    "else:\n",
    "    torch.save((prompt_embeds, pooled_prompt_embeds), \"neg_emb.pt\")"
   ]
  },
  {
   "cell_type": "code",
   "execution_count": null,
   "id": "60afe3fc-3b7a-4260-9722-54fa227551a6",
   "metadata": {},
   "outputs": [],
   "source": []
  }
 ],
 "metadata": {
  "kernelspec": {
   "display_name": "Python 3 (ipykernel)",
   "language": "python",
   "name": "python3"
  },
  "language_info": {
   "codemirror_mode": {
    "name": "ipython",
    "version": 3
   },
   "file_extension": ".py",
   "mimetype": "text/x-python",
   "name": "python",
   "nbconvert_exporter": "python",
   "pygments_lexer": "ipython3",
   "version": "3.10.12"
  }
 },
 "nbformat": 4,
 "nbformat_minor": 5
}
